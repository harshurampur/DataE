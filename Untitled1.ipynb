{
 "cells": [
  {
   "cell_type": "code",
   "execution_count": 1,
   "metadata": {},
   "outputs": [],
   "source": [
    "from pyspark.sql import SparkSession\n",
    "from pyspark.sql.functions import desc, row_number, monotonically_increasing_id\n",
    "from pyspark.sql.window import Window\n",
    "\n",
    "from pyspark.sql.functions import col, explode, collect_list, concat_ws\n",
    "from pyspark.sql.functions import col, collect_list, concat_ws, sha2\n",
    "from pyspark.sql.functions import regexp_replace, regexp_extract, expr, when, lit\n",
    "from pyspark.sql.functions import desc, row_number, monotonically_increasing_id\n",
    "from pyspark.sql.window import Window\n",
    "from pyspark.sql.functions import udf, to_date, concat\n",
    "from pyspark.sql.types import ArrayType, StringType, IntegerType, DoubleType\n",
    "import pyspark.sql.functions as F\n",
    "import os, subprocess\n",
    "import re\n",
    "import pyspark.sql.functions as psf"
   ]
  },
  {
   "cell_type": "code",
   "execution_count": 2,
   "metadata": {},
   "outputs": [],
   "source": [
    "sparksession = (SparkSession\n",
    "                .builder\n",
    "                .appName(\"CRA-strava-landing\")\n",
    "                .enableHiveSupport()\n",
    "                .getOrCreate())"
   ]
  },
  {
   "cell_type": "code",
   "execution_count": 13,
   "metadata": {},
   "outputs": [],
   "source": [
    "df_strava_raw = sparksession.read.option(\"header\",\"true\").option(\"inferSchema\", \"true\").option(\"delimiter\", \",\").option(\"multiline\",\"true\").option(\"quote\", \"\\\"\").option(\"escape\", \"\\\"\").csv(\"/Data/CMTEDD/OCDO/StravaMetroView/SourceData/*/*.csv\")"
   ]
  },
  {
   "cell_type": "code",
   "execution_count": 16,
   "metadata": {},
   "outputs": [
    {
     "data": {
      "text/plain": [
       "6278"
      ]
     },
     "execution_count": 16,
     "metadata": {},
     "output_type": "execute_result"
    }
   ],
   "source": [
    "df_strava_raw.count()"
   ]
  },
  {
   "cell_type": "code",
   "execution_count": null,
   "metadata": {},
   "outputs": [],
   "source": []
  }
 ],
 "metadata": {
  "kernelspec": {
   "display_name": "Python 3",
   "language": "python",
   "name": "python3"
  },
  "language_info": {
   "codemirror_mode": {
    "name": "ipython",
    "version": 3
   },
   "file_extension": ".py",
   "mimetype": "text/x-python",
   "name": "python",
   "nbconvert_exporter": "python",
   "pygments_lexer": "ipython3",
   "version": "3.4.5"
  }
 },
 "nbformat": 4,
 "nbformat_minor": 4
}
