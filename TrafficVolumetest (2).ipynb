{
 "cells": [
  {
   "cell_type": "code",
   "execution_count": 26,
   "metadata": {},
   "outputs": [],
   "source": [
    "from pyspark.sql import SparkSession\n",
    "from pyspark.sql.functions import desc, row_number, monotonically_increasing_id\n",
    "from pyspark.sql.window import Window\n",
    "\n",
    "from pyspark.sql.functions import col, explode, collect_list, concat_ws\n",
    "from pyspark.sql.functions import col, collect_list, concat_ws, sha2\n",
    "from pyspark.sql.functions import regexp_replace, regexp_extract, expr, when, lit\n",
    "from pyspark.sql.functions import desc, row_number, monotonically_increasing_id\n",
    "from pyspark.sql.window import Window\n",
    "from pyspark.sql.functions import udf, to_date, concat\n",
    "from pyspark.sql.types import ArrayType, StringType, IntegerType, DoubleType\n",
    "import pyspark.sql.functions as F\n",
    "import os, subprocess\n",
    "import re\n",
    "import pyspark.sql.functions as psf"
   ]
  },
  {
   "cell_type": "code",
   "execution_count": 27,
   "metadata": {},
   "outputs": [],
   "source": [
    "sparksession = (SparkSession\n",
    "                .builder\n",
    "                .appName(\"CRA-strva-landing\")\n",
    "                .enableHiveSupport()\n",
    "                .getOrCreate())"
   ]
  },
  {
   "cell_type": "code",
   "execution_count": 14,
   "metadata": {},
   "outputs": [],
   "source": [
    "\n",
    "def blank_as_na(x):\n",
    "    return when((col(x) != \"\") & (col(x) != \"null\") , col(x)).otherwise('Not Available')\n",
    "\n",
    "def check_free_flag(x):\n",
    "    return when((col(x) =='1') , \"Yes\").when((col(x) =='') , \"Not Available\").otherwise(\"No\")\n",
    "\n",
    "def is_blank_then_null(x):\n",
    "    return when((col(x) != \"null\") , col(x)).otherwise(None)\n"
   ]
  },
  {
   "cell_type": "code",
   "execution_count": 39,
   "metadata": {},
   "outputs": [],
   "source": [
    "df_traffic_ref_raw = sparksession.read.option(\"header\",True).option(\"inferSchema\", \"true\").option(\"multiline\",\"true\").csv(\"/Data/TCCS/TrafficVolume/SourceData/*.csv\")"
   ]
  },
  {
   "cell_type": "code",
   "execution_count": 45,
   "metadata": {},
   "outputs": [
    {
     "name": "stdout",
     "output_type": "stream",
     "text": [
      "+--------------------+----------------------------+-----------------------------+--------------+-----------------+----------------+-------------------+-----------------------+------------------+-------------+\n",
      "|   Intersection Name|IntersectionCentroidLatitude|IntersectionCentroidLongitude|ApproachNumber|ApproachFromSteet| ApproachToSteet|ApproachDescription|CityMovementDescription|IntersectionSuburb|TrafficIndex\n",
      "+--------------------+----------------------------+-----------------------------+--------------+-----------------+----------------+-------------------+-----------------------+------------------+-------------+\n",
      "|Constitution Ave ...|                   -35.28578|                    149.13482|   Approach  1|    Coranderrk St|   Coranderrk St|        North Bound|           Towards City|              Reid|          6.0|\n",
      "|Constitution Ave ...|                   -35.28578|                    149.13482|   Approach  2|    Coranderrk St|   Coranderrk St|        North Bound|           Towards City|              Reid|          6.0|\n",
      "|Constitution Ave ...|                  -35.285599|                   149.135236|   Approach  3|    Coranderrk St|   Coranderrk St|        South Bound|              Away City|              Reid|          6.0|\n",
      "|Constitution Ave ...|                  -35.285599|                   149.135236|   Approach  4|    Coranderrk St|   Coranderrk St|        South Bound|              Away City|              Reid|          6.0|\n",
      "|Constitution Ave ...|                   -35.28578|                    149.13482|   Approach  5|    Coranderrk St|Constitution Ave|         East Bound|              Away City|              Reid|          6.0|\n",
      "|Constitution Ave ...|                  -35.285599|                   149.135236|   Approach  6|    Coranderrk St|Constitution Ave|         West Bound|           Towards City|              Reid|          6.0|\n",
      "|Constitution Ave ...|                   -35.28551|                   149.134908|   Approach  7| Constitution Ave|Constitution Ave|         East Bound|              Away City|              Reid|          6.0|\n",
      "|Constitution Ave ...|                  -35.285846|                   149.135195|   Approach  8| Constitution Ave|Constitution Ave|         West Bound|           Towards City|              Reid|          6.0|\n",
      "|Constitution Ave ...|                   -35.28551|                   149.134908|   Approach  9| Constitution Ave|   Coranderrk St|        South Bound|              Away City|              Reid|          6.0|\n",
      "|Constitution Ave ...|                  -35.285846|                   149.135195|  Approach  10|    Coranderrk St|Constitution Ave|        North Bound|           Towards City|              Reid|          6.0|\n",
      "|Constitution Ave ...|                   -35.28578|                    149.13482|  Approach  11|    Coranderrk St|Constitution Ave|         West Bound|           Towards City|              Reid|          6.0|\n",
      "|Constitution Ave ...|                  -35.285599|                   149.135236|  Approach  12|    Coranderrk St|Constitution Ave|         East Bound|              Away City|              Reid|          6.0|\n",
      "|Constitution Ave ...|                   -35.28551|                   149.134908|  Approach  13| Constitution Ave|   Coranderrk St|        North Bound|           Towards City|              Reid|          6.0|\n",
      "|Constitution Ave ...|                  -35.285846|                   149.135195|  Approach  14| Constitution Ave|   Coranderrk St|        South Bound|              Away City|              Reid|          6.0|\n",
      "+--------------------+----------------------------+-----------------------------+--------------+-----------------+----------------+-------------------+-----------------------+------------------+-------------+\n",
      "\n"
     ]
    }
   ],
   "source": []
  },
  {
   "cell_type": "code",
   "execution_count": 46,
   "metadata": {},
   "outputs": [],
   "source": [
    "df_traffic_ref_raw= df_traffic_ref_raw.replace(\"IntersectionSuburb\\r\",\"IntersectionSuburb\")\n"
   ]
  },
  {
   "cell_type": "code",
   "execution_count": 42,
   "metadata": {},
   "outputs": [
    {
     "data": {
      "text/plain": [
       "['Intersection Name',\n",
       " 'IntersectionCentroidLatitude',\n",
       " 'IntersectionCentroidLongitude',\n",
       " 'ApproachNumber',\n",
       " 'ApproachFromSteet',\n",
       " 'ApproachToSteet',\n",
       " 'ApproachDescription',\n",
       " 'CityMovementDescription',\n",
       " 'IntersectionSuburb',\n",
       " 'TrafficIndex\\r']"
      ]
     },
     "execution_count": 42,
     "metadata": {},
     "output_type": "execute_result"
    }
   ],
   "source": [
    "df_traffic_ref_raw.columns"
   ]
  },
  {
   "cell_type": "code",
   "execution_count": 41,
   "metadata": {},
   "outputs": [],
   "source": [
    "    df_traffic_ref = df_traffic_ref_raw.select('Intersection Name','IntersectionCentroidLatitude', 'IntersectionCentroidLongitude', 'ApproachNumber','ApproachFromSteet', 'ApproachToSteet','ApproachDescription', 'CityMovementDescription', 'IntersectionSuburb')\n"
   ]
  },
  {
   "cell_type": "code",
   "execution_count": 47,
   "metadata": {},
   "outputs": [],
   "source": [
    "df_traffic_ref= df_traffic_ref.withColumn(\"current_date\",F.current_date())"
   ]
  },
  {
   "cell_type": "code",
   "execution_count": 48,
   "metadata": {},
   "outputs": [
    {
     "name": "stdout",
     "output_type": "stream",
     "text": [
      "+--------------------+----------------------------+-----------------------------+--------------+-----------------+----------------+-------------------+-----------------------+------------------+------------+\n",
      "|   Intersection Name|IntersectionCentroidLatitude|IntersectionCentroidLongitude|ApproachNumber|ApproachFromSteet| ApproachToSteet|ApproachDescription|CityMovementDescription|IntersectionSuburb|current_date|\n",
      "+--------------------+----------------------------+-----------------------------+--------------+-----------------+----------------+-------------------+-----------------------+------------------+------------+\n",
      "|Constitution Ave ...|                   -35.28578|                    149.13482|   Approach  1|    Coranderrk St|   Coranderrk St|        North Bound|           Towards City|              Reid|  2020-10-22|\n",
      "|Constitution Ave ...|                   -35.28578|                    149.13482|   Approach  2|    Coranderrk St|   Coranderrk St|        North Bound|           Towards City|              Reid|  2020-10-22|\n",
      "|Constitution Ave ...|                  -35.285599|                   149.135236|   Approach  3|    Coranderrk St|   Coranderrk St|        South Bound|              Away City|              Reid|  2020-10-22|\n",
      "|Constitution Ave ...|                  -35.285599|                   149.135236|   Approach  4|    Coranderrk St|   Coranderrk St|        South Bound|              Away City|              Reid|  2020-10-22|\n",
      "|Constitution Ave ...|                   -35.28578|                    149.13482|   Approach  5|    Coranderrk St|Constitution Ave|         East Bound|              Away City|              Reid|  2020-10-22|\n",
      "|Constitution Ave ...|                  -35.285599|                   149.135236|   Approach  6|    Coranderrk St|Constitution Ave|         West Bound|           Towards City|              Reid|  2020-10-22|\n",
      "|Constitution Ave ...|                   -35.28551|                   149.134908|   Approach  7| Constitution Ave|Constitution Ave|         East Bound|              Away City|              Reid|  2020-10-22|\n",
      "|Constitution Ave ...|                  -35.285846|                   149.135195|   Approach  8| Constitution Ave|Constitution Ave|         West Bound|           Towards City|              Reid|  2020-10-22|\n",
      "|Constitution Ave ...|                   -35.28551|                   149.134908|   Approach  9| Constitution Ave|   Coranderrk St|        South Bound|              Away City|              Reid|  2020-10-22|\n",
      "|Constitution Ave ...|                  -35.285846|                   149.135195|  Approach  10|    Coranderrk St|Constitution Ave|        North Bound|           Towards City|              Reid|  2020-10-22|\n",
      "|Constitution Ave ...|                   -35.28578|                    149.13482|  Approach  11|    Coranderrk St|Constitution Ave|         West Bound|           Towards City|              Reid|  2020-10-22|\n",
      "|Constitution Ave ...|                  -35.285599|                   149.135236|  Approach  12|    Coranderrk St|Constitution Ave|         East Bound|              Away City|              Reid|  2020-10-22|\n",
      "|Constitution Ave ...|                   -35.28551|                   149.134908|  Approach  13| Constitution Ave|   Coranderrk St|        North Bound|           Towards City|              Reid|  2020-10-22|\n",
      "|Constitution Ave ...|                  -35.285846|                   149.135195|  Approach  14| Constitution Ave|   Coranderrk St|        South Bound|              Away City|              Reid|  2020-10-22|\n",
      "+--------------------+----------------------------+-----------------------------+--------------+-----------------+----------------+-------------------+-----------------------+------------------+------------+\n",
      "\n"
     ]
    }
   ],
   "source": [
    "df_traffic_ref.show()"
   ]
  },
  {
   "cell_type": "code",
   "execution_count": 4,
   "metadata": {},
   "outputs": [],
   "source": [
    "spark.sparkContext.setLogLevel(\"ERROR\")"
   ]
  },
  {
   "cell_type": "code",
   "execution_count": 1,
   "metadata": {},
   "outputs": [],
   "source": [
    "df_traffic_volume = spark.read.text(\"/Data/TCCS/TrafficVolume/SourceData/*.txt\")"
   ]
  },
  {
   "cell_type": "code",
   "execution_count": 3,
   "metadata": {},
   "outputs": [
    {
     "data": {
      "text/plain": [
       "['value']"
      ]
     },
     "execution_count": 3,
     "metadata": {},
     "output_type": "execute_result"
    }
   ],
   "source": [
    "df_traffic_volume.columns"
   ]
  },
  {
   "cell_type": "code",
   "execution_count": 1,
   "metadata": {},
   "outputs": [],
   "source": [
    "#for line in lines:\n",
    "    #print(line)"
   ]
  },
  {
   "cell_type": "code",
   "execution_count": 3,
   "metadata": {},
   "outputs": [],
   "source": [
    "df_ref = sparksession.sql(\"SELECT  intrsctn_nm, intrsctn_lat, intrsctn_long, approach_num, approach_frm_st, approach_to_st, approach_desc, city_mv_desc, intrsctn_sub FROM traffic_volume_landing.traffic_vol_ref\")"
   ]
  },
  {
   "cell_type": "code",
   "execution_count": 4,
   "metadata": {},
   "outputs": [],
   "source": [
    "df_ref_new = df_ref.select(regexp_replace(col(\"approach_num\"),\"\\\\s+\", \"\").alias(\"approach_ref\"),\"intrsctn_nm\", \"intrsctn_lat\", \"intrsctn_long\", \"approach_frm_st\", \"approach_to_st\", \"approach_desc\", \"city_mv_desc\", \"intrsctn_sub\")"
   ]
  },
  {
   "cell_type": "code",
   "execution_count": 11,
   "metadata": {},
   "outputs": [
    {
     "name": "stdout",
     "output_type": "stream",
     "text": [
      "+------------+\n",
      "|approach_ref|\n",
      "+------------+\n",
      "|   Approach1|\n",
      "|   Approach2|\n",
      "|   Approach3|\n",
      "|   Approach4|\n",
      "|   Approach5|\n",
      "|   Approach6|\n",
      "|   Approach7|\n",
      "|   Approach8|\n",
      "|   Approach9|\n",
      "|  Approach10|\n",
      "|  Approach11|\n",
      "|  Approach12|\n",
      "|  Approach13|\n",
      "|  Approach14|\n",
      "+------------+\n",
      "\n"
     ]
    }
   ],
   "source": [
    "df_ref_new.select(\"approach_ref\").show()"
   ]
  },
  {
   "cell_type": "code",
   "execution_count": 3,
   "metadata": {},
   "outputs": [],
   "source": [
    "df_cnt = sparksession.sql(\"SELECT trafficvol_dt, trafficvol_day, trafficvol_ts, approach_num, trafficvol_cnt FROM traffic_volume_landing.traffic_vol_count\")"
   ]
  },
  {
   "cell_type": "code",
   "execution_count": 18,
   "metadata": {},
   "outputs": [],
   "source": [
    "df_cnt = df_cnt.withColumn('joined_datetime', concat(col('trafficvol_dt'),lit(' '), col('trafficvol_ts')))"
   ]
  },
  {
   "cell_type": "code",
   "execution_count": 9,
   "metadata": {},
   "outputs": [],
   "source": [
    "df_cnt_new = df_cnt.select(regexp_replace(col(\"approach_num\"), \" \", \"\").alias(\"approach_pid\"),to_date(col(\"trafficvol_dt\"),\"dd MMMM yyyy\").alias(\"trafficvol_dt\"),\"trafficvol_day\", \"trafficvol_ts\", \"trafficvol_cnt\", \"approach_num\")\n"
   ]
  },
  {
   "cell_type": "code",
   "execution_count": 5,
   "metadata": {},
   "outputs": [
    {
     "name": "stdout",
     "output_type": "stream",
     "text": [
      "+----------------+--------------+-------------+------------+--------------+\n",
      "|   trafficvol_dt|trafficvol_day|trafficvol_ts|approach_num|trafficvol_cnt|\n",
      "+----------------+--------------+-------------+------------+--------------+\n",
      "|01 February 2019|        Friday|        01:00|  Approach 1|            19|\n",
      "|01 February 2019|        Friday|        01:00|  Approach 2|            15|\n",
      "|01 February 2019|        Friday|        01:00|  Approach 3|            34|\n",
      "|01 February 2019|        Friday|        01:00|  Approach 4|            21|\n",
      "|01 February 2019|        Friday|        01:00|  Approach 5|             0|\n",
      "|01 February 2019|        Friday|        01:00|  Approach 6|             0|\n",
      "|01 February 2019|        Friday|        01:00|  Approach 7|             8|\n",
      "|01 February 2019|        Friday|        01:00|  Approach 8|             7|\n",
      "|01 February 2019|        Friday|        01:00|  Approach 9|            28|\n",
      "|01 February 2019|        Friday|        01:00| Approach 10|             0|\n",
      "|01 February 2019|        Friday|        01:00| Approach 11|            14|\n",
      "|01 February 2019|        Friday|        01:00| Approach 12|             2|\n",
      "|01 February 2019|        Friday|        01:00| Approach 13|             6|\n",
      "|01 February 2019|        Friday|        01:00| Approach 14|             1|\n",
      "|01 February 2019|        Friday|        02:00|  Approach 1|            13|\n",
      "|01 February 2019|        Friday|        02:00|  Approach 2|             5|\n",
      "|01 February 2019|        Friday|        02:00|  Approach 3|             9|\n",
      "|01 February 2019|        Friday|        02:00|  Approach 4|             9|\n",
      "|01 February 2019|        Friday|        02:00|  Approach 5|             0|\n",
      "|01 February 2019|        Friday|        02:00|  Approach 6|             1|\n",
      "+----------------+--------------+-------------+------------+--------------+\n",
      "only showing top 20 rows\n",
      "\n"
     ]
    }
   ],
   "source": [
    "df_cnt.filter(col(\"trafficvol_dt\") == \"01 February 2019\").show(20)"
   ]
  },
  {
   "cell_type": "code",
   "execution_count": 15,
   "metadata": {},
   "outputs": [],
   "source": [
    "df_cnt_new = df_cnt_new.withColumn('joined_datetime', concat(col('trafficvol_dt'),lit(' '), col('trafficvol_ts')))"
   ]
  },
  {
   "cell_type": "code",
   "execution_count": null,
   "metadata": {},
   "outputs": [],
   "source": [
    "df_cnt_new"
   ]
  },
  {
   "cell_type": "code",
   "execution_count": 10,
   "metadata": {},
   "outputs": [
    {
     "data": {
      "text/plain": [
       "['approach_pid',\n",
       " 'trafficvol_dt',\n",
       " 'trafficvol_day',\n",
       " 'trafficvol_ts',\n",
       " 'trafficvol_cnt',\n",
       " 'approach_num']"
      ]
     },
     "execution_count": 10,
     "metadata": {},
     "output_type": "execute_result"
    }
   ],
   "source": [
    "df_cnt_new.columns"
   ]
  },
  {
   "cell_type": "code",
   "execution_count": 11,
   "metadata": {},
   "outputs": [
    {
     "name": "stdout",
     "output_type": "stream",
     "text": [
      "+------------+-------------+--------------+-------------+--------------+------------+\n",
      "|approach_pid|trafficvol_dt|trafficvol_day|trafficvol_ts|trafficvol_cnt|approach_num|\n",
      "+------------+-------------+--------------+-------------+--------------+------------+\n",
      "|   Approach1|   2019-12-01|        Sunday|        01:00|            83|  Approach 1|\n",
      "|   Approach2|   2019-12-01|        Sunday|        01:00|            53|  Approach 2|\n",
      "|   Approach3|   2019-12-01|        Sunday|        01:00|            97|  Approach 3|\n",
      "|   Approach4|   2019-12-01|        Sunday|        01:00|            74|  Approach 4|\n",
      "|   Approach5|   2019-12-01|        Sunday|        01:00|             1|  Approach 5|\n",
      "|   Approach6|   2019-12-01|        Sunday|        01:00|             8|  Approach 6|\n",
      "|   Approach7|   2019-12-01|        Sunday|        01:00|            19|  Approach 7|\n",
      "|   Approach8|   2019-12-01|        Sunday|        01:00|            12|  Approach 8|\n",
      "|   Approach9|   2019-12-01|        Sunday|        01:00|            63|  Approach 9|\n",
      "|  Approach10|   2019-12-01|        Sunday|        01:00|             6| Approach 10|\n",
      "|  Approach11|   2019-12-01|        Sunday|        01:00|            63| Approach 11|\n",
      "|  Approach12|   2019-12-01|        Sunday|        01:00|             8| Approach 12|\n",
      "|  Approach13|   2019-12-01|        Sunday|        01:00|            18| Approach 13|\n",
      "|  Approach14|   2019-12-01|        Sunday|        01:00|             2| Approach 14|\n",
      "|   Approach1|   2019-12-01|        Sunday|        02:00|            42|  Approach 1|\n",
      "|   Approach2|   2019-12-01|        Sunday|        02:00|            33|  Approach 2|\n",
      "|   Approach3|   2019-12-01|        Sunday|        02:00|            81|  Approach 3|\n",
      "|   Approach4|   2019-12-01|        Sunday|        02:00|            35|  Approach 4|\n",
      "|   Approach5|   2019-12-01|        Sunday|        02:00|             0|  Approach 5|\n",
      "|   Approach6|   2019-12-01|        Sunday|        02:00|             2|  Approach 6|\n",
      "+------------+-------------+--------------+-------------+--------------+------------+\n",
      "only showing top 20 rows\n",
      "\n"
     ]
    }
   ],
   "source": [
    "df_cnt_new.show()"
   ]
  },
  {
   "cell_type": "code",
   "execution_count": 11,
   "metadata": {},
   "outputs": [
    {
     "data": {
      "text/plain": [
       "<bound method DataFrame.printSchema of DataFrame[approach_num: string, trafficvol_dt: date, trafficvol_day: string, trafficvol_ts: string, trafficvol_cnt: string]>"
      ]
     },
     "execution_count": 11,
     "metadata": {},
     "output_type": "execute_result"
    }
   ],
   "source": [
    "df_cnt_new.printSchema\n"
   ]
  },
  {
   "cell_type": "code",
   "execution_count": 12,
   "metadata": {},
   "outputs": [],
   "source": [
    "df_new =df_cnt_new.join(df_ref_new,df_cnt_new.approach_pid == df_ref_new.approach_ref) \n",
    "\n",
    "\n",
    "df_new = df_new.drop(df_new.approach_pid)\n",
    "\n",
    "df_new = df_new.drop(df_new.approach_ref)\n",
    "\n",
    "df_new = df_new.withColumn(\"trafficvol_cnt\", df_new[\"trafficvol_cnt\"].cast(IntegerType()))"
   ]
  },
  {
   "cell_type": "code",
   "execution_count": 19,
   "metadata": {},
   "outputs": [
    {
     "name": "stdout",
     "output_type": "stream",
     "text": [
      "root\n",
      " |-- trafficvol_dt: date (nullable = true)\n",
      " |-- trafficvol_day: string (nullable = true)\n",
      " |-- trafficvol_ts: string (nullable = true)\n",
      " |-- trafficvol_cnt: integer (nullable = true)\n",
      " |-- approach_num: string (nullable = true)\n",
      " |-- intrsctn_nm: string (nullable = true)\n",
      " |-- intrsctn_lat: double (nullable = true)\n",
      " |-- intrsctn_long: double (nullable = true)\n",
      " |-- approach_frm_st: string (nullable = true)\n",
      " |-- approach_to_st: string (nullable = true)\n",
      " |-- approach_desc: string (nullable = true)\n",
      " |-- city_mv_desc: string (nullable = true)\n",
      " |-- intrsctn_sub: string (nullable = true)\n",
      "\n"
     ]
    }
   ],
   "source": [
    "df_new.printSchema()"
   ]
  },
  {
   "cell_type": "code",
   "execution_count": 20,
   "metadata": {},
   "outputs": [
    {
     "name": "stdout",
     "output_type": "stream",
     "text": [
      "+-------------+--------------+-------------+--------------+------------+--------------------+------------+-------------+----------------+----------------+-------------+------------+------------+\n",
      "|trafficvol_dt|trafficvol_day|trafficvol_ts|trafficvol_cnt|approach_num|         intrsctn_nm|intrsctn_lat|intrsctn_long| approach_frm_st|  approach_to_st|approach_desc|city_mv_desc|intrsctn_sub|\n",
      "+-------------+--------------+-------------+--------------+------------+--------------------+------------+-------------+----------------+----------------+-------------+------------+------------+\n",
      "|   2019-12-01|        Sunday|        01:00|            83|  Approach 1|Constitution Ave ...|   -35.28578|    149.13482|   Coranderrk St|   Coranderrk St|  North Bound|Towards City|        Reid|\n",
      "|   2019-12-01|        Sunday|        01:00|            53|  Approach 2|Constitution Ave ...|   -35.28578|    149.13482|   Coranderrk St|   Coranderrk St|  North Bound|Towards City|        Reid|\n",
      "|   2019-12-01|        Sunday|        01:00|            97|  Approach 3|Constitution Ave ...|  -35.285599|   149.135236|   Coranderrk St|   Coranderrk St|  South Bound|   Away City|        Reid|\n",
      "|   2019-12-01|        Sunday|        01:00|            74|  Approach 4|Constitution Ave ...|  -35.285599|   149.135236|   Coranderrk St|   Coranderrk St|  South Bound|   Away City|        Reid|\n",
      "|   2019-12-01|        Sunday|        01:00|             1|  Approach 5|Constitution Ave ...|   -35.28578|    149.13482|   Coranderrk St|Constitution Ave|   East Bound|   Away City|        Reid|\n",
      "|   2019-12-01|        Sunday|        01:00|             8|  Approach 6|Constitution Ave ...|  -35.285599|   149.135236|   Coranderrk St|Constitution Ave|   West Bound|Towards City|        Reid|\n",
      "|   2019-12-01|        Sunday|        01:00|            19|  Approach 7|Constitution Ave ...|   -35.28551|   149.134908|Constitution Ave|Constitution Ave|   East Bound|   Away City|        Reid|\n",
      "|   2019-12-01|        Sunday|        01:00|            12|  Approach 8|Constitution Ave ...|  -35.285846|   149.135195|Constitution Ave|Constitution Ave|   West Bound|Towards City|        Reid|\n",
      "|   2019-12-01|        Sunday|        01:00|            63|  Approach 9|Constitution Ave ...|   -35.28551|   149.134908|Constitution Ave|   Coranderrk St|  South Bound|   Away City|        Reid|\n",
      "|   2019-12-01|        Sunday|        01:00|             6| Approach 10|Constitution Ave ...|  -35.285846|   149.135195|   Coranderrk St|Constitution Ave|  North Bound|Towards City|        Reid|\n",
      "|   2019-12-01|        Sunday|        01:00|            63| Approach 11|Constitution Ave ...|   -35.28578|    149.13482|   Coranderrk St|Constitution Ave|   West Bound|Towards City|        Reid|\n",
      "|   2019-12-01|        Sunday|        01:00|             8| Approach 12|Constitution Ave ...|  -35.285599|   149.135236|   Coranderrk St|Constitution Ave|   East Bound|   Away City|        Reid|\n",
      "|   2019-12-01|        Sunday|        01:00|            18| Approach 13|Constitution Ave ...|   -35.28551|   149.134908|Constitution Ave|   Coranderrk St|  North Bound|Towards City|        Reid|\n",
      "|   2019-12-01|        Sunday|        01:00|             2| Approach 14|Constitution Ave ...|  -35.285846|   149.135195|Constitution Ave|   Coranderrk St|  South Bound|   Away City|        Reid|\n",
      "|   2019-12-01|        Sunday|        02:00|            42|  Approach 1|Constitution Ave ...|   -35.28578|    149.13482|   Coranderrk St|   Coranderrk St|  North Bound|Towards City|        Reid|\n",
      "|   2019-12-01|        Sunday|        02:00|            33|  Approach 2|Constitution Ave ...|   -35.28578|    149.13482|   Coranderrk St|   Coranderrk St|  North Bound|Towards City|        Reid|\n",
      "|   2019-12-01|        Sunday|        02:00|            81|  Approach 3|Constitution Ave ...|  -35.285599|   149.135236|   Coranderrk St|   Coranderrk St|  South Bound|   Away City|        Reid|\n",
      "|   2019-12-01|        Sunday|        02:00|            35|  Approach 4|Constitution Ave ...|  -35.285599|   149.135236|   Coranderrk St|   Coranderrk St|  South Bound|   Away City|        Reid|\n",
      "|   2019-12-01|        Sunday|        02:00|             0|  Approach 5|Constitution Ave ...|   -35.28578|    149.13482|   Coranderrk St|Constitution Ave|   East Bound|   Away City|        Reid|\n",
      "|   2019-12-01|        Sunday|        02:00|             2|  Approach 6|Constitution Ave ...|  -35.285599|   149.135236|   Coranderrk St|Constitution Ave|   West Bound|Towards City|        Reid|\n",
      "|   2019-12-01|        Sunday|        02:00|            15|  Approach 7|Constitution Ave ...|   -35.28551|   149.134908|Constitution Ave|Constitution Ave|   East Bound|   Away City|        Reid|\n",
      "|   2019-12-01|        Sunday|        02:00|             7|  Approach 8|Constitution Ave ...|  -35.285846|   149.135195|Constitution Ave|Constitution Ave|   West Bound|Towards City|        Reid|\n",
      "|   2019-12-01|        Sunday|        02:00|            67|  Approach 9|Constitution Ave ...|   -35.28551|   149.134908|Constitution Ave|   Coranderrk St|  South Bound|   Away City|        Reid|\n",
      "|   2019-12-01|        Sunday|        02:00|             2| Approach 10|Constitution Ave ...|  -35.285846|   149.135195|   Coranderrk St|Constitution Ave|  North Bound|Towards City|        Reid|\n",
      "|   2019-12-01|        Sunday|        02:00|            51| Approach 11|Constitution Ave ...|   -35.28578|    149.13482|   Coranderrk St|Constitution Ave|   West Bound|Towards City|        Reid|\n",
      "|   2019-12-01|        Sunday|        02:00|             5| Approach 12|Constitution Ave ...|  -35.285599|   149.135236|   Coranderrk St|Constitution Ave|   East Bound|   Away City|        Reid|\n",
      "|   2019-12-01|        Sunday|        02:00|            10| Approach 13|Constitution Ave ...|   -35.28551|   149.134908|Constitution Ave|   Coranderrk St|  North Bound|Towards City|        Reid|\n",
      "|   2019-12-01|        Sunday|        02:00|             0| Approach 14|Constitution Ave ...|  -35.285846|   149.135195|Constitution Ave|   Coranderrk St|  South Bound|   Away City|        Reid|\n",
      "|   2019-12-01|        Sunday|        03:00|            28|  Approach 1|Constitution Ave ...|   -35.28578|    149.13482|   Coranderrk St|   Coranderrk St|  North Bound|Towards City|        Reid|\n",
      "|   2019-12-01|        Sunday|        03:00|            12|  Approach 2|Constitution Ave ...|   -35.28578|    149.13482|   Coranderrk St|   Coranderrk St|  North Bound|Towards City|        Reid|\n",
      "+-------------+--------------+-------------+--------------+------------+--------------------+------------+-------------+----------------+----------------+-------------+------------+------------+\n",
      "only showing top 30 rows\n",
      "\n"
     ]
    }
   ],
   "source": [
    "df_new.show(30)"
   ]
  },
  {
   "cell_type": "code",
   "execution_count": 24,
   "metadata": {},
   "outputs": [],
   "source": [
    "diff = df_ref.join(df_cnt,df_ref[\"approach_num\"]==df_cnt[\"approach_ref\"],\"left\")"
   ]
  },
  {
   "cell_type": "code",
   "execution_count": 25,
   "metadata": {},
   "outputs": [
    {
     "name": "stdout",
     "output_type": "stream",
     "text": [
      "+--------------------+------------+-------------+------------+----------------+----------------+-------------+------------+------------+-------------+--------------+-------------+------------+--------------+\n",
      "|         intrsctn_nm|intrsctn_lat|intrsctn_long|approach_num| approach_frm_st|  approach_to_st|approach_desc|city_mv_desc|intrsctn_sub|trafficvol_dt|trafficvol_day|trafficvol_ts|approach_ref|trafficvol_cnt|\n",
      "+--------------------+------------+-------------+------------+----------------+----------------+-------------+------------+------------+-------------+--------------+-------------+------------+--------------+\n",
      "|Constitution Ave ...|   -35.28578|    149.13482| Approach  1|   Coranderrk St|   Coranderrk St|  North Bound|Towards City|        Reid|         null|          null|         null|        null|          null|\n",
      "|Constitution Ave ...|   -35.28578|    149.13482| Approach  2|   Coranderrk St|   Coranderrk St|  North Bound|Towards City|        Reid|         null|          null|         null|        null|          null|\n",
      "|Constitution Ave ...|  -35.285599|   149.135236| Approach  3|   Coranderrk St|   Coranderrk St|  South Bound|   Away City|        Reid|         null|          null|         null|        null|          null|\n",
      "|Constitution Ave ...|  -35.285599|   149.135236| Approach  4|   Coranderrk St|   Coranderrk St|  South Bound|   Away City|        Reid|         null|          null|         null|        null|          null|\n",
      "|Constitution Ave ...|   -35.28578|    149.13482| Approach  5|   Coranderrk St|Constitution Ave|   East Bound|   Away City|        Reid|         null|          null|         null|        null|          null|\n",
      "|Constitution Ave ...|  -35.285599|   149.135236| Approach  6|   Coranderrk St|Constitution Ave|   West Bound|Towards City|        Reid|         null|          null|         null|        null|          null|\n",
      "|Constitution Ave ...|   -35.28551|   149.134908| Approach  7|Constitution Ave|Constitution Ave|   East Bound|   Away City|        Reid|         null|          null|         null|        null|          null|\n",
      "|Constitution Ave ...|  -35.285846|   149.135195| Approach  8|Constitution Ave|Constitution Ave|   West Bound|Towards City|        Reid|         null|          null|         null|        null|          null|\n",
      "|Constitution Ave ...|   -35.28551|   149.134908| Approach  9|Constitution Ave|   Coranderrk St|  South Bound|   Away City|        Reid|         null|          null|         null|        null|          null|\n",
      "|Constitution Ave ...|  -35.285846|   149.135195|Approach  10|   Coranderrk St|Constitution Ave|  North Bound|Towards City|        Reid|         null|          null|         null|        null|          null|\n",
      "|Constitution Ave ...|   -35.28578|    149.13482|Approach  11|   Coranderrk St|Constitution Ave|   West Bound|Towards City|        Reid|         null|          null|         null|        null|          null|\n",
      "|Constitution Ave ...|  -35.285599|   149.135236|Approach  12|   Coranderrk St|Constitution Ave|   East Bound|   Away City|        Reid|         null|          null|         null|        null|          null|\n",
      "|Constitution Ave ...|   -35.28551|   149.134908|Approach  13|Constitution Ave|   Coranderrk St|  North Bound|Towards City|        Reid|         null|          null|         null|        null|          null|\n",
      "|Constitution Ave ...|  -35.285846|   149.135195|Approach  14|Constitution Ave|   Coranderrk St|  South Bound|   Away City|        Reid|         null|          null|         null|        null|          null|\n",
      "+--------------------+------------+-------------+------------+----------------+----------------+-------------+------------+------------+-------------+--------------+-------------+------------+--------------+\n",
      "\n"
     ]
    }
   ],
   "source": [
    "diff.show()"
   ]
  },
  {
   "cell_type": "code",
   "execution_count": 28,
   "metadata": {},
   "outputs": [],
   "source": [
    "from pyspark.sql.functions import regexp_replace, col\n",
    "from pyspark.sql.functions import udf\n",
    "from pyspark.sql.types import StringType"
   ]
  },
  {
   "cell_type": "code",
   "execution_count": 35,
   "metadata": {},
   "outputs": [],
   "source": [
    "df_cnewt = df_cnt.select(regexp_replace(col(\"approach_ref\"), \" \", \"\").alias(\"cref\"),\"trafficvol_dt\")"
   ]
  },
  {
   "cell_type": "code",
   "execution_count": 60,
   "metadata": {},
   "outputs": [
    {
     "name": "stdout",
     "output_type": "stream",
     "text": [
      "+----------------+-------------+\n",
      "|  trafficvoldate|Formated Date|\n",
      "+----------------+-------------+\n",
      "|01 December 2019|   2019-12-01|\n",
      "|01 December 2019|   2019-12-01|\n",
      "|01 December 2019|   2019-12-01|\n",
      "|01 December 2019|   2019-12-01|\n",
      "|01 December 2019|   2019-12-01|\n",
      "|01 December 2019|   2019-12-01|\n",
      "|01 December 2019|   2019-12-01|\n",
      "|01 December 2019|   2019-12-01|\n",
      "|01 December 2019|   2019-12-01|\n",
      "|01 December 2019|   2019-12-01|\n",
      "|01 December 2019|   2019-12-01|\n",
      "|01 December 2019|   2019-12-01|\n",
      "|01 December 2019|   2019-12-01|\n",
      "|01 December 2019|   2019-12-01|\n",
      "|01 December 2019|   2019-12-01|\n",
      "|01 December 2019|   2019-12-01|\n",
      "|01 December 2019|   2019-12-01|\n",
      "|01 December 2019|   2019-12-01|\n",
      "|01 December 2019|   2019-12-01|\n",
      "|01 December 2019|   2019-12-01|\n",
      "+----------------+-------------+\n",
      "only showing top 20 rows\n",
      "\n"
     ]
    }
   ],
   "source": [
    "df_cnewt.select(col(\"trafficvol_dt\").alias(\"trafficvoldate\"), to_date(col(\"trafficvol_dt\"),\"dd MMMM yyyy\").alias(\"Formated Date\")).show()"
   ]
  },
  {
   "cell_type": "code",
   "execution_count": 6,
   "metadata": {},
   "outputs": [],
   "source": [
    "df_curate = sparksession.sql(\"SELECT trafficvol_dt, trafficvol_day, trafficvol_ts, approach_num, trafficvol_cnt FROM traffic_volume_curated.traffic_vol_count_curated\")"
   ]
  },
  {
   "cell_type": "code",
   "execution_count": 8,
   "metadata": {},
   "outputs": [
    {
     "name": "stdout",
     "output_type": "stream",
     "text": [
      "+-------------+--------------+-------------+------------+--------------+\n",
      "|trafficvol_dt|trafficvol_day|trafficvol_ts|approach_num|trafficvol_cnt|\n",
      "+-------------+--------------+-------------+------------+--------------+\n",
      "|   2019-02-01|        Friday|        01:00|  Approach 1|            19|\n",
      "|   2019-02-01|        Friday|        01:00|  Approach 2|            15|\n",
      "|   2019-02-01|        Friday|        01:00|  Approach 3|            34|\n",
      "|   2019-02-01|        Friday|        01:00|  Approach 4|            21|\n",
      "|   2019-02-01|        Friday|        01:00|  Approach 5|             0|\n",
      "|   2019-02-01|        Friday|        01:00|  Approach 6|             0|\n",
      "|   2019-02-01|        Friday|        01:00|  Approach 7|             8|\n",
      "|   2019-02-01|        Friday|        01:00|  Approach 8|             7|\n",
      "|   2019-02-01|        Friday|        01:00|  Approach 9|            28|\n",
      "|   2019-02-01|        Friday|        01:00| Approach 10|             0|\n",
      "|   2019-02-01|        Friday|        01:00| Approach 11|            14|\n",
      "|   2019-02-01|        Friday|        01:00| Approach 12|             2|\n",
      "|   2019-02-01|        Friday|        01:00| Approach 13|             6|\n",
      "|   2019-02-01|        Friday|        01:00| Approach 14|             1|\n",
      "|   2019-02-01|        Friday|        02:00|  Approach 1|            13|\n",
      "|   2019-02-01|        Friday|        02:00|  Approach 2|             5|\n",
      "|   2019-02-01|        Friday|        02:00|  Approach 3|             9|\n",
      "|   2019-02-01|        Friday|        02:00|  Approach 4|             9|\n",
      "|   2019-02-01|        Friday|        02:00|  Approach 5|             0|\n",
      "|   2019-02-01|        Friday|        02:00|  Approach 6|             1|\n",
      "|   2019-02-01|        Friday|        02:00|  Approach 7|             5|\n",
      "|   2019-02-01|        Friday|        02:00|  Approach 8|             2|\n",
      "|   2019-02-01|        Friday|        02:00|  Approach 9|            19|\n",
      "|   2019-02-01|        Friday|        02:00| Approach 10|             1|\n",
      "|   2019-02-01|        Friday|        02:00| Approach 11|            16|\n",
      "|   2019-02-01|        Friday|        02:00| Approach 12|             1|\n",
      "|   2019-02-01|        Friday|        02:00| Approach 13|             4|\n",
      "|   2019-02-01|        Friday|        02:00| Approach 14|             2|\n",
      "|   2019-02-01|        Friday|        03:00|  Approach 1|             8|\n",
      "|   2019-02-01|        Friday|        03:00|  Approach 2|             8|\n",
      "|   2019-02-01|        Friday|        03:00|  Approach 3|             7|\n",
      "|   2019-02-01|        Friday|        03:00|  Approach 4|             7|\n",
      "|   2019-02-01|        Friday|        03:00|  Approach 5|             0|\n",
      "|   2019-02-01|        Friday|        03:00|  Approach 6|             2|\n",
      "|   2019-02-01|        Friday|        03:00|  Approach 7|             1|\n",
      "|   2019-02-01|        Friday|        03:00|  Approach 8|             4|\n",
      "|   2019-02-01|        Friday|        03:00|  Approach 9|            24|\n",
      "|   2019-02-01|        Friday|        03:00| Approach 10|             0|\n",
      "|   2019-02-01|        Friday|        03:00| Approach 11|             7|\n",
      "|   2019-02-01|        Friday|        03:00| Approach 12|             3|\n",
      "|   2019-02-01|        Friday|        03:00| Approach 13|             5|\n",
      "|   2019-02-01|        Friday|        03:00| Approach 14|             0|\n",
      "|   2019-02-01|        Friday|        04:00|  Approach 1|            12|\n",
      "|   2019-02-01|        Friday|        04:00|  Approach 2|             5|\n",
      "|   2019-02-01|        Friday|        04:00|  Approach 3|            14|\n",
      "|   2019-02-01|        Friday|        04:00|  Approach 4|            10|\n",
      "|   2019-02-01|        Friday|        04:00|  Approach 5|             0|\n",
      "|   2019-02-01|        Friday|        04:00|  Approach 6|             0|\n",
      "|   2019-02-01|        Friday|        04:00|  Approach 7|             4|\n",
      "|   2019-02-01|        Friday|        04:00|  Approach 8|             0|\n",
      "+-------------+--------------+-------------+------------+--------------+\n",
      "only showing top 50 rows\n",
      "\n"
     ]
    }
   ],
   "source": [
    "df_curate.filter(col(\"trafficvol_dt\") == \"2019-02-01\").show(50)\n"
   ]
  },
  {
   "cell_type": "code",
   "execution_count": null,
   "metadata": {},
   "outputs": [],
   "source": []
  },
  {
   "cell_type": "code",
   "execution_count": null,
   "metadata": {},
   "outputs": [],
   "source": []
  },
  {
   "cell_type": "code",
   "execution_count": 22,
   "metadata": {},
   "outputs": [
    {
     "name": "stdout",
     "output_type": "stream",
     "text": [
      "Collecting geopandas\n",
      "\u001b[?25l  Downloading https://files.pythonhosted.org/packages/f7/a4/e66aafbefcbb717813bf3a355c8c4fc3ed04ea1dd7feb2920f2f4f868921/geopandas-0.8.1-py2.py3-none-any.whl (962kB)\n",
      "\u001b[K    100% |████████████████████████████████| 972kB 2.3MB/s ta 0:00:011\n",
      "\u001b[?25hRequirement already satisfied: pandas>=0.23.0 in /home/mapr/envs/hr_venv/lib/python3.5/site-packages (from geopandas) (0.25.3)\n",
      "Collecting pyproj>=2.2.0 (from geopandas)\n",
      "\u001b[?25l  Downloading https://files.pythonhosted.org/packages/47/1e/cd25d0acb718297b504ba0d46fc9335295f154979c27b8bbb5691af00517/pyproj-2.6.1.post1-cp35-cp35m-manylinux1_x86_64.whl (10.9MB)\n",
      "\u001b[K    100% |████████████████████████████████| 10.9MB 2.1MB/s eta 0:00:01\n",
      "\u001b[?25hCollecting shapely (from geopandas)\n",
      "\u001b[?25l  Downloading https://files.pythonhosted.org/packages/cf/00/4ccaedf7c2805c93aef21116477283b3beb9b6c5a761b08447d51c9f3e0f/Shapely-1.7.1-cp35-cp35m-manylinux1_x86_64.whl (1.0MB)\n",
      "\u001b[K    100% |████████████████████████████████| 1.0MB 12.0MB/s ta 0:00:01███████         | 737kB 71.6MB/s eta 0:00:01\n",
      "\u001b[?25hCollecting fiona (from geopandas)\n",
      "\u001b[?25l  Downloading https://files.pythonhosted.org/packages/2f/99/13ea0f0bcde28704eb1d8e2ba8c39288a2e468fa7cba285aec73ff4cafac/Fiona-1.8.17-cp35-cp35m-manylinux1_x86_64.whl (14.7MB)\n",
      "\u001b[K    100% |████████████████████████████████| 14.7MB 2.0MB/s eta 0:00:01\n",
      "\u001b[?25hRequirement already satisfied: pytz>=2017.2 in /home/mapr/envs/hr_venv/lib/python3.5/site-packages (from pandas>=0.23.0->geopandas) (2020.1)\n",
      "Requirement already satisfied: python-dateutil>=2.6.1 in /home/mapr/envs/hr_venv/lib/python3.5/site-packages (from pandas>=0.23.0->geopandas) (2.8.1)\n",
      "Requirement already satisfied: numpy>=1.13.3 in /home/mapr/envs/hr_venv/lib/python3.5/site-packages (from pandas>=0.23.0->geopandas) (1.18.5)\n",
      "Collecting cligj>=0.5 (from fiona->geopandas)\n",
      "  Downloading https://files.pythonhosted.org/packages/ba/06/e3440b1f2dc802d35f329f299ba96153e9fcbfdef75e17f4b61f79430c6a/cligj-0.7.0-py3-none-any.whl\n",
      "Requirement already satisfied: attrs>=17 in /home/mapr/envs/hr_venv/lib/python3.5/site-packages (from fiona->geopandas) (20.2.0)\n",
      "Collecting munch (from fiona->geopandas)\n",
      "  Downloading https://files.pythonhosted.org/packages/cc/ab/85d8da5c9a45e072301beb37ad7f833cd344e04c817d97e0cc75681d248f/munch-2.5.0-py2.py3-none-any.whl\n",
      "Collecting click<8,>=4.0 (from fiona->geopandas)\n",
      "\u001b[?25l  Downloading https://files.pythonhosted.org/packages/d2/3d/fa76db83bf75c4f8d338c2fd15c8d33fdd7ad23a9b5e57eb6c5de26b430e/click-7.1.2-py2.py3-none-any.whl (82kB)\n",
      "\u001b[K    100% |████████████████████████████████| 92kB 1.7MB/s ta 0:00:01\n",
      "\u001b[?25hCollecting click-plugins>=1.0 (from fiona->geopandas)\n",
      "  Downloading https://files.pythonhosted.org/packages/e9/da/824b92d9942f4e472702488857914bdd50f73021efea15b4cad9aca8ecef/click_plugins-1.1.1-py2.py3-none-any.whl\n",
      "Requirement already satisfied: six>=1.7 in /home/mapr/envs/hr_venv/lib/python3.5/site-packages (from fiona->geopandas) (1.15.0)\n",
      "Installing collected packages: pyproj, shapely, click, cligj, munch, click-plugins, fiona, geopandas\n",
      "Successfully installed click-7.1.2 click-plugins-1.1.1 cligj-0.7.0 fiona-1.8.17 geopandas-0.8.1 munch-2.5.0 pyproj-2.6.1.post1 shapely-1.7.1\n",
      "\u001b[33mYou are using pip version 10.0.1, however version 20.2.4 is available.\n",
      "You should consider upgrading via the 'pip install --upgrade pip' command.\u001b[0m\n"
     ]
    }
   ],
   "source": [
    "!pip install geopandas"
   ]
  },
  {
   "cell_type": "code",
   "execution_count": 23,
   "metadata": {},
   "outputs": [
    {
     "ename": "NameError",
     "evalue": "name 'geopandas' is not defined",
     "output_type": "error",
     "traceback": [
      "\u001b[1;31m---------------------------------------------------------------------------\u001b[0m",
      "\u001b[1;31mNameError\u001b[0m                                 Traceback (most recent call last)",
      "\u001b[1;32m<ipython-input-23-4115ca4f296a>\u001b[0m in \u001b[0;36m<module>\u001b[1;34m()\u001b[0m\n\u001b[1;32m----> 1\u001b[1;33m \u001b[0mshp_file\u001b[0m \u001b[1;33m=\u001b[0m \u001b[0mgeopandas\u001b[0m\u001b[1;33m.\u001b[0m\u001b[0mread_file\u001b[0m\u001b[1;33m(\u001b[0m\u001b[1;34m'cf485f9235bc3082bea15f504a693567edbac0a814305c849c816b909041951b-1603663006342.zip.shp'\u001b[0m\u001b[1;33m)\u001b[0m\u001b[1;33m\u001b[0m\u001b[0m\n\u001b[0m\u001b[0;32m      2\u001b[0m \u001b[0mshp_file\u001b[0m\u001b[1;33m.\u001b[0m\u001b[0mto_file\u001b[0m\u001b[1;33m(\u001b[0m\u001b[1;34m'myshpfile.geojson'\u001b[0m\u001b[1;33m,\u001b[0m \u001b[0mdriver\u001b[0m\u001b[1;33m=\u001b[0m\u001b[1;34m'GeoJSON'\u001b[0m\u001b[1;33m)\u001b[0m\u001b[1;33m\u001b[0m\u001b[0m\n",
      "\u001b[1;31mNameError\u001b[0m: name 'geopandas' is not defined"
     ]
    }
   ],
   "source": [
    "shp_file = geopandas.read_file('cf485f9235bc3082bea15f504a693567edbac0a814305c849c816b909041951b-1603663006342.zip.shp')\n",
    "shp_file.to_file('myshpfile.geojson', driver='GeoJSON')"
   ]
  },
  {
   "cell_type": "code",
   "execution_count": 1,
   "metadata": {},
   "outputs": [
    {
     "ename": "ImportError",
     "evalue": "No module named 'geopandas'",
     "output_type": "error",
     "traceback": [
      "\u001b[1;31m---------------------------------------------------------------------------\u001b[0m",
      "\u001b[1;31mImportError\u001b[0m                               Traceback (most recent call last)",
      "\u001b[1;32m<ipython-input-1-c9ee6bd24dbc>\u001b[0m in \u001b[0;36m<module>\u001b[1;34m()\u001b[0m\n\u001b[1;32m----> 1\u001b[1;33m \u001b[1;32mimport\u001b[0m \u001b[0mgeopandas\u001b[0m\u001b[1;33m\u001b[0m\u001b[0m\n\u001b[0m",
      "\u001b[1;31mImportError\u001b[0m: No module named 'geopandas'"
     ]
    }
   ],
   "source": [
    "import geopandas"
   ]
  },
  {
   "cell_type": "code",
   "execution_count": 2,
   "metadata": {},
   "outputs": [
    {
     "ename": "ImportError",
     "evalue": "No module named 'shapefile'",
     "output_type": "error",
     "traceback": [
      "\u001b[1;31m---------------------------------------------------------------------------\u001b[0m",
      "\u001b[1;31mImportError\u001b[0m                               Traceback (most recent call last)",
      "\u001b[1;32m<ipython-input-2-0ac862197ad8>\u001b[0m in \u001b[0;36m<module>\u001b[1;34m()\u001b[0m\n\u001b[1;32m----> 1\u001b[1;33m \u001b[1;32mimport\u001b[0m \u001b[0mshapefile\u001b[0m\u001b[1;33m\u001b[0m\u001b[0m\n\u001b[0m\u001b[0;32m      2\u001b[0m \u001b[1;32mfrom\u001b[0m \u001b[0mjson\u001b[0m \u001b[1;32mimport\u001b[0m \u001b[0mdumps\u001b[0m\u001b[1;33m\u001b[0m\u001b[0m\n\u001b[0;32m      3\u001b[0m \u001b[1;33m\u001b[0m\u001b[0m\n\u001b[0;32m      4\u001b[0m \u001b[1;31m# read the shapefile\u001b[0m\u001b[1;33m\u001b[0m\u001b[1;33m\u001b[0m\u001b[0m\n\u001b[0;32m      5\u001b[0m \u001b[0mreader\u001b[0m \u001b[1;33m=\u001b[0m \u001b[0mshapefile\u001b[0m\u001b[1;33m.\u001b[0m\u001b[0mReader\u001b[0m\u001b[1;33m(\u001b[0m\u001b[1;34m\"cf485f9235bc3082bea15f504a693567edbac0a814305c849c816b909041951b-1603663006342.zip.shp\"\u001b[0m\u001b[1;33m)\u001b[0m\u001b[1;33m\u001b[0m\u001b[0m\n",
      "\u001b[1;31mImportError\u001b[0m: No module named 'shapefile'"
     ]
    }
   ],
   "source": [
    "import shapefile\n",
    "from json import dumps\n",
    "\n",
    "# read the shapefile\n",
    "reader = shapefile.Reader(\"cf485f9235bc3082bea15f504a693567edbac0a814305c849c816b909041951b-1603663006342.zip.shp\")\n",
    "fields = reader.fields[1:]\n",
    "field_names = [field[0] for field in fields]\n",
    "buffer = []\n",
    "for sr in reader.shapeRecords():\n",
    "    atr = dict(zip(field_names, sr.record))\n",
    "    geom = sr.shape.__geo_interface__\n",
    "    buffer.append(dict(type=\"Feature\", \\\n",
    "    geometry=geom, properties=atr)) \n",
    "   \n",
    "    # write the GeoJSON file\n",
    "   \n",
    "geojson = open(\"pyshp-demo.json\", \"w\")\n",
    "geojson.write(dumps({\"type\": \"FeatureCollection\", \"features\": buffer}, indent=2) + \"\\n\")\n",
    "geojson.close()"
   ]
  },
  {
   "cell_type": "code",
   "execution_count": 4,
   "metadata": {},
   "outputs": [],
   "source": [
    "df_raw = sparksession.read.option(\"multiline\",\"true\").json(\"/Data/CMTEDD/OCDO/StravaMetroView/SourceData/*/geojson.json\")"
   ]
  },
  {
   "cell_type": "code",
   "execution_count": 6,
   "metadata": {},
   "outputs": [
    {
     "name": "stdout",
     "output_type": "stream",
     "text": [
      "+--------------------+--------------------+-----------------+\n",
      "|                 crs|            features|             type|\n",
      "+--------------------+--------------------+-----------------+\n",
      "|[[urn:ogc:def:crs...|[[[WrappedArray(W...|FeatureCollection|\n",
      "|[[urn:ogc:def:crs...|[[[WrappedArray(W...|FeatureCollection|\n",
      "+--------------------+--------------------+-----------------+\n",
      "\n"
     ]
    }
   ],
   "source": [
    "df_raw.show()"
   ]
  },
  {
   "cell_type": "code",
   "execution_count": 18,
   "metadata": {},
   "outputs": [],
   "source": [
    "df_strava_metro_ride = sparksession.read.option(\"header\",True).option(\"inferSchema\", \"true\").option(\"multiline\",\"true\").csv(\"/Data/CMTEDD/OCDO/StravaMetroView/SourceData/cycle.csv\")"
   ]
  },
  {
   "cell_type": "code",
   "execution_count": 11,
   "metadata": {},
   "outputs": [],
   "source": [
    "df_strava_metro_ride= df_strava_metro_ride.withColumn(\"edge\", df_strava_metro_ride[\"edgeUID\"].cast(StringType()))"
   ]
  },
  {
   "cell_type": "code",
   "execution_count": 17,
   "metadata": {},
   "outputs": [
    {
     "name": "stdout",
     "output_type": "stream",
     "text": [
      "root\n",
      " |-- _c0: integer (nullable = true)\n",
      " |-- linetype: string (nullable = true)\n",
      " |-- edgeUID: integer (nullable = true)\n",
      " |-- osmID: integer (nullable = true)\n",
      " |-- start_linestring_long: double (nullable = true)\n",
      " |-- start_linestring_lat: double (nullable = true)\n",
      " |-- end_linestring_long: double (nullable = true)\n",
      " |-- end_linestring_lat: double (nullable = true)\n",
      "\n"
     ]
    }
   ],
   "source": [
    "df_strava_metro_ride.printSchema()"
   ]
  },
  {
   "cell_type": "code",
   "execution_count": 19,
   "metadata": {},
   "outputs": [
    {
     "name": "stdout",
     "output_type": "stream",
     "text": [
      "+---+----------+--------+--------+---------------------+--------------------+-------------------+-------------------+\n",
      "|_c0|  linetype| edgeUID|   osmID|start_linestring_long|start_linestring_lat|end_linestring_long| end_linestring_lat|\n",
      "+---+----------+--------+--------+---------------------+--------------------+-------------------+-------------------+\n",
      "|  0|LineString|18156735|18156735|        149.134765625|  -35.28569030761719| 149.13485717773438| -35.28575134277344|\n",
      "|  1|LineString|18156737|18156737|   149.13502502441406| -35.285850524902344| 149.13514709472656|-35.285919189453125|\n",
      "|  2|LineString|18156738|18156738|   149.13485717773438|  -35.28575134277344| 149.13502502441406|-35.285850524902344|\n",
      "|  3|LineString|18156739|18156739|   149.13511657714844|   -35.2857551574707| 149.13502502441406|-35.285850524902344|\n",
      "|  4|LineString|18156740|18156740|   149.13522338867188| -35.285823822021484| 149.13511657714844|  -35.2857551574707|\n",
      "|  5|LineString|18156741|18156741|   149.13516235351562|  -35.28569793701172| 149.13511657714844|  -35.2857551574707|\n",
      "|  6|LineString|18156742|18156742|   149.13514709472656| -35.285919189453125| 149.13522338867188|-35.285823822021484|\n",
      "|  7|LineString|18156744|18156744|   149.13499450683594|  -35.28559875488281| 149.13516235351562| -35.28569793701172|\n",
      "|  8|LineString|18156745|18156745|   149.13523864746094| -35.285606384277344| 149.13516235351562| -35.28569793701172|\n",
      "|  9|LineString|18156746|18156746|   149.13522338867188| -35.285823822021484| 149.13528442382812|  -35.2857666015625|\n",
      "| 10|LineString|18156747|18156747|   149.13516235351562|  -35.28569793701172| 149.13528442382812|  -35.2857666015625|\n",
      "| 11|LineString|18156748|18156748|        149.134765625|  -35.28569030761719|  149.1348419189453| -35.28559494018555|\n",
      "| 12|LineString|18156749|18156749|   149.13494873046875|  -35.28565979003906|  149.1348419189453| -35.28559494018555|\n",
      "| 13|LineString|18156750|18156750|    149.1348419189453|  -35.28559494018555|  149.1348876953125| -35.28553771972656|\n",
      "| 14|LineString|18156752|18156752|   149.13485717773438|  -35.28575134277344| 149.13494873046875| -35.28565979003906|\n",
      "| 15|LineString|18156753|18156753|   149.13511657714844|   -35.2857551574707| 149.13494873046875| -35.28565979003906|\n",
      "| 16|LineString|18156754|18156754|    149.1348876953125|  -35.28553771972656| 149.13499450683594| -35.28559875488281|\n",
      "| 17|LineString|18156755|18156755|   149.13494873046875|  -35.28565979003906| 149.13499450683594| -35.28559875488281|\n",
      "| 18|LineString|18156756|18156756|   149.13523864746094| -35.285606384277344| 149.13507080078125|  -35.2855110168457|\n",
      "| 19|LineString|18156757|18156757|   149.13499450683594|  -35.28559875488281| 149.13507080078125|  -35.2855110168457|\n",
      "+---+----------+--------+--------+---------------------+--------------------+-------------------+-------------------+\n",
      "only showing top 20 rows\n",
      "\n"
     ]
    }
   ],
   "source": [
    "df_strava_metro_ride.show()"
   ]
  },
  {
   "cell_type": "code",
   "execution_count": 29,
   "metadata": {},
   "outputs": [],
   "source": [
    "df_strava_metro_ride = sparksession.read.option(\"header\",True).option(\"inferSchema\", \"true\").option(\"delimiter\", \",\").option(\"multiline\",\"true\").option(\"quote\", \"\\\"\").option(\"escape\", \"\\\"\").option(\"encoding\", \"UTF-8\").csv(\"/Data/CMTEDD/OCDO/StravaMetroView/SourceData/cycle.csv\")\n",
    "df_strava_metro_ride = df_strava_metro_ride.select(\"edgeUID\")# \"start_linestring_long\", \"end_linestring_long\",\"start_linestring_lat\",\"end_linestring_lat\" )\n",
    "df_strava_metro_ride= df_strava_metro_ride.withColumn(\"edgeUID\", df_strava_metro_ride[\"edgeUID\"].cast(StringType()))\n",
    "#df_strava_metro_ride.write.saveAsTable(\"strava_metro_landing.strava_cycle_reference\", format=\"parquet\", mode=\"overwrite\", path=\"/Data/CMTEDD/OCDO/StravaMetroView/Landing/strava_cycle_reference\")"
   ]
  },
  {
   "cell_type": "code",
   "execution_count": 24,
   "metadata": {},
   "outputs": [
    {
     "data": {
      "text/plain": [
       "[('linetype', 'string')]"
      ]
     },
     "execution_count": 24,
     "metadata": {},
     "output_type": "execute_result"
    }
   ],
   "source": [
    "df_strava_metro_ride.dtypes"
   ]
  },
  {
   "cell_type": "code",
   "execution_count": 15,
   "metadata": {},
   "outputs": [
    {
     "name": "stdout",
     "output_type": "stream",
     "text": [
      "root\n",
      " |-- linetype: string (nullable = true)\n",
      " |-- edgeUID: integer (nullable = true)\n",
      " |-- osmID: integer (nullable = true)\n",
      " |-- start_linestring_long: double (nullable = true)\n",
      " |-- end_linestring_long: double (nullable = true)\n",
      " |-- start_linestring_lat: double (nullable = true)\n",
      " |-- end_linestring_lat: double (nullable = true)\n",
      "\n"
     ]
    }
   ],
   "source": [
    "df_strava_metro_ride.printSchema()"
   ]
  },
  {
   "cell_type": "code",
   "execution_count": 71,
   "metadata": {},
   "outputs": [],
   "source": [
    "df_cycle_cnt = sparksession.sql(\"SELECT *  FROM strava_metroview_landing.strava_cycle_count\")\n",
    "df_cycle_cnt = df_cycle_cnt.withColumnRenamed('reverse_average_speed\\r', 'reverse_average_speed')\n",
    "\n",
    "df_cycle_ref= sparksession.sql(\"SELECT *  FROM strava_metroview_landing.strava_cycle_reference\")"
   ]
  },
  {
   "cell_type": "code",
   "execution_count": 73,
   "metadata": {},
   "outputs": [
    {
     "data": {
      "text/plain": [
       "['linetype',\n",
       " 'edgeUID',\n",
       " 'osmID',\n",
       " 'start_linestring_long',\n",
       " 'end_linestring_long',\n",
       " 'start_linestring_lat',\n",
       " 'end_linestring_lat']"
      ]
     },
     "execution_count": 73,
     "metadata": {},
     "output_type": "execute_result"
    }
   ],
   "source": [
    "df_cycle_ref.columns"
   ]
  },
  {
   "cell_type": "code",
   "execution_count": 74,
   "metadata": {},
   "outputs": [],
   "source": [
    "df_curated =df_cycle_cnt.join(df_cycle_ref,df_cycle_cnt.edge_uid == df_cycle_ref.osmID) \n",
    "df_curated = df_curated.drop(df_curated.edgeUID)\n",
    "df_curated = df_curated.drop(df_curated.osmID)\n",
    "\n"
   ]
  },
  {
   "cell_type": "code",
   "execution_count": null,
   "metadata": {},
   "outputs": [],
   "source": [
    "edge_uid,activity_type,date, forward_trip_count, reverse_trip_count,forward_people_count,reverse_people_count,forward_hour_0_trip_count,reverse_hour_0_trip_count,forward_hour_1_trip_count,reverse_hour_1_trip_count,forward_hour_2_trip_count,reverse_hour_2_trip_count,forward_hour_3_trip_count,reverse_hour_3_trip_count,forward_hour_4_trip_count,reverse_hour_4_trip_count,forward_hour_5_trip_count,reverse_hour_5_trip_count,forward_hour_6_trip_count,reverse_hour_6_trip_count,forward_hour_7_trip_count,reverse_hour_7_trip_count,forward_hour_8_trip_count,reverse_hour_8_trip_count,forward_hour_9_trip_count,reverse_hour_9_trip_count,forward_hour_10_trip_count,reverse_hour_10_trip_count,forward_hour_11_trip_count,reverse_hour_11_trip_count,forward_hour_12_trip_count,reverse_hour_12_trip_count,forward_hour_13_trip_count,reverse_hour_13_trip_count,forward_hour_14_trip_count,reverse_hour_14_trip_count,forward_hour_15_trip_count,reverse_hour_15_trip_count,forward_hour_16_trip_count,reverse_hour_16_trip_count,forward_hour_17_trip_count,reverse_hour_17_trip_count,forward_hour_18_trip_count,reverse_hour_18_trip_count,forward_hour_19_trip_count,reverse_hour_19_trip_count,forward_hour_20_trip_count,reverse_hour_20_trip_count,forward_hour_21_trip_count,reverse_hour_21_trip_count,forward_hour_22_trip_count,reverse_hour_22_trip_count,forward_hour_23_trip_count,reverse_hour_23_trip_count,forward_commute_trip_count,reverse_commute_trip_count,forward_leisure_trip_count,reverse_leisure_trip_count,forward_morning_trip_count,reverse_morning_trip_count,forward_evening_trip_count,reverse_evening_trip_count,forward_male_people_count,reverse_male_people_count,forward_female_people_count,reverse_female_people_count,forward_unspecified_people_count,reverse_unspecified_people_count,forward_13_19_people_count,reverse_13_19_people_count,forward_20_34_people_count,reverse_20_34_people_count,forward_35_54_people_count,reverse_35_54_people_count,forward_55_64_people_count,reverse_55_64_people_count,forward_65_plus_people_count,reverse_65_plus_people_count,forward_average_speed, reverse_average_speed\\r"
   ]
  },
  {
   "cell_type": "code",
   "execution_count": 55,
   "metadata": {},
   "outputs": [
    {
     "data": {
      "text/plain": [
       "['edge_uid',\n",
       " 'activity_type',\n",
       " 'date',\n",
       " 'forward_trip_count',\n",
       " 'reverse_trip_count',\n",
       " 'forward_people_count',\n",
       " 'reverse_people_count',\n",
       " 'forward_hour_0_trip_count',\n",
       " 'reverse_hour_0_trip_count',\n",
       " 'forward_hour_1_trip_count',\n",
       " 'reverse_hour_1_trip_count',\n",
       " 'forward_hour_2_trip_count',\n",
       " 'reverse_hour_2_trip_count',\n",
       " 'forward_hour_3_trip_count',\n",
       " 'reverse_hour_3_trip_count',\n",
       " 'forward_hour_4_trip_count',\n",
       " 'reverse_hour_4_trip_count',\n",
       " 'forward_hour_5_trip_count',\n",
       " 'reverse_hour_5_trip_count',\n",
       " 'forward_hour_6_trip_count',\n",
       " 'reverse_hour_6_trip_count',\n",
       " 'forward_hour_7_trip_count',\n",
       " 'reverse_hour_7_trip_count',\n",
       " 'forward_hour_8_trip_count',\n",
       " 'reverse_hour_8_trip_count',\n",
       " 'forward_hour_9_trip_count',\n",
       " 'reverse_hour_9_trip_count',\n",
       " 'forward_hour_10_trip_count',\n",
       " 'reverse_hour_10_trip_count',\n",
       " 'forward_hour_11_trip_count',\n",
       " 'reverse_hour_11_trip_count',\n",
       " 'forward_hour_12_trip_count',\n",
       " 'reverse_hour_12_trip_count',\n",
       " 'forward_hour_13_trip_count',\n",
       " 'reverse_hour_13_trip_count',\n",
       " 'forward_hour_14_trip_count',\n",
       " 'reverse_hour_14_trip_count',\n",
       " 'forward_hour_15_trip_count',\n",
       " 'reverse_hour_15_trip_count',\n",
       " 'forward_hour_16_trip_count',\n",
       " 'reverse_hour_16_trip_count',\n",
       " 'forward_hour_17_trip_count',\n",
       " 'reverse_hour_17_trip_count',\n",
       " 'forward_hour_18_trip_count',\n",
       " 'reverse_hour_18_trip_count',\n",
       " 'forward_hour_19_trip_count',\n",
       " 'reverse_hour_19_trip_count',\n",
       " 'forward_hour_20_trip_count',\n",
       " 'reverse_hour_20_trip_count',\n",
       " 'forward_hour_21_trip_count',\n",
       " 'reverse_hour_21_trip_count',\n",
       " 'forward_hour_22_trip_count',\n",
       " 'reverse_hour_22_trip_count',\n",
       " 'forward_hour_23_trip_count',\n",
       " 'reverse_hour_23_trip_count',\n",
       " 'forward_commute_trip_count',\n",
       " 'reverse_commute_trip_count',\n",
       " 'forward_leisure_trip_count',\n",
       " 'reverse_leisure_trip_count',\n",
       " 'forward_morning_trip_count',\n",
       " 'reverse_morning_trip_count',\n",
       " 'forward_evening_trip_count',\n",
       " 'reverse_evening_trip_count',\n",
       " 'forward_male_people_count',\n",
       " 'reverse_male_people_count',\n",
       " 'forward_female_people_count',\n",
       " 'reverse_female_people_count',\n",
       " 'forward_unspecified_people_count',\n",
       " 'reverse_unspecified_people_count',\n",
       " 'forward_13_19_people_count',\n",
       " 'reverse_13_19_people_count',\n",
       " 'forward_20_34_people_count',\n",
       " 'reverse_20_34_people_count',\n",
       " 'forward_35_54_people_count',\n",
       " 'reverse_35_54_people_count',\n",
       " 'forward_55_64_people_count',\n",
       " 'reverse_55_64_people_count',\n",
       " 'forward_65_plus_people_count',\n",
       " 'reverse_65_plus_people_count',\n",
       " 'forward_average_speed',\n",
       " 'reverse_average_speed']"
      ]
     },
     "execution_count": 55,
     "metadata": {},
     "output_type": "execute_result"
    }
   ],
   "source": [
    " df_cycle_cnt.columns"
   ]
  },
  {
   "cell_type": "code",
   "execution_count": 48,
   "metadata": {},
   "outputs": [],
   "source": [
    "import re    \n",
    "\n",
    "df_new_col = [re.sub(r'[\\r]', '', c) for c in df_c]"
   ]
  },
  {
   "cell_type": "code",
   "execution_count": 50,
   "metadata": {},
   "outputs": [
    {
     "ename": "AttributeError",
     "evalue": "can't set attribute",
     "output_type": "error",
     "traceback": [
      "\u001b[1;31m---------------------------------------------------------------------------\u001b[0m",
      "\u001b[1;31mAttributeError\u001b[0m                            Traceback (most recent call last)",
      "\u001b[1;32m<ipython-input-50-10085b1da685>\u001b[0m in \u001b[0;36m<module>\u001b[1;34m()\u001b[0m\n\u001b[1;32m----> 1\u001b[1;33m \u001b[0mdf_cycle_cnt\u001b[0m\u001b[1;33m.\u001b[0m\u001b[0mcolumns\u001b[0m \u001b[1;33m=\u001b[0m \u001b[0mdf_new_col\u001b[0m\u001b[1;33m\u001b[0m\u001b[0m\n\u001b[0m",
      "\u001b[1;31mAttributeError\u001b[0m: can't set attribute"
     ]
    }
   ],
   "source": [
    "df_cycle_cnt.columns = df_new_col "
   ]
  },
  {
   "cell_type": "code",
   "execution_count": null,
   "metadata": {},
   "outputs": [],
   "source": []
  }
 ],
 "metadata": {
  "kernelspec": {
   "display_name": "Python 3",
   "language": "python",
   "name": "python3"
  },
  "language_info": {
   "codemirror_mode": {
    "name": "ipython",
    "version": 3
   },
   "file_extension": ".py",
   "mimetype": "text/x-python",
   "name": "python",
   "nbconvert_exporter": "python",
   "pygments_lexer": "ipython3",
   "version": "3.4.5"
  }
 },
 "nbformat": 4,
 "nbformat_minor": 4
}
